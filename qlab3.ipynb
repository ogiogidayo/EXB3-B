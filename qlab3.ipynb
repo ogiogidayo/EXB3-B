{
  "nbformat": 4,
  "nbformat_minor": 0,
  "metadata": {
    "colab": {
      "provenance": [],
      "authorship_tag": "ABX9TyP9w4Ix4KsIp1lqG/UQSwI6",
      "include_colab_link": true
    },
    "kernelspec": {
      "name": "python3",
      "display_name": "Python 3"
    },
    "language_info": {
      "name": "python"
    }
  },
  "cells": [
    {
      "cell_type": "markdown",
      "metadata": {
        "id": "view-in-github",
        "colab_type": "text"
      },
      "source": [
        "<a href=\"https://colab.research.google.com/github/ogiogidayo/EXB3-B/blob/main/qlab3.ipynb\" target=\"_parent\"><img src=\"https://colab.research.google.com/assets/colab-badge.svg\" alt=\"Open In Colab\"/></a>"
      ]
    },
    {
      "cell_type": "code",
      "execution_count": 1,
      "metadata": {
        "colab": {
          "base_uri": "https://localhost:8080/"
        },
        "id": "HctGg2kgL0fb",
        "outputId": "429c85f5-9e2f-48da-fc0f-2748b490a9c0"
      },
      "outputs": [
        {
          "output_type": "stream",
          "name": "stdout",
          "text": [
            "Collecting qiskit\n",
            "  Downloading qiskit-1.2.4-cp38-abi3-manylinux_2_17_x86_64.manylinux2014_x86_64.whl.metadata (12 kB)\n",
            "Collecting qiskit_aer\n",
            "  Downloading qiskit_aer-0.15.1-cp310-cp310-manylinux_2_17_x86_64.manylinux2014_x86_64.whl.metadata (8.0 kB)\n",
            "Collecting pylatexenc\n",
            "  Downloading pylatexenc-2.10.tar.gz (162 kB)\n",
            "\u001b[2K     \u001b[90m━━━━━━━━━━━━━━━━━━━━━━━━━━━━━━━━━━━━━━━━\u001b[0m \u001b[32m162.6/162.6 kB\u001b[0m \u001b[31m5.4 MB/s\u001b[0m eta \u001b[36m0:00:00\u001b[0m\n",
            "\u001b[?25h  Preparing metadata (setup.py) ... \u001b[?25l\u001b[?25hdone\n",
            "Collecting rustworkx>=0.15.0 (from qiskit)\n",
            "  Downloading rustworkx-0.15.1-cp38-abi3-manylinux_2_17_x86_64.manylinux2014_x86_64.whl.metadata (9.9 kB)\n",
            "Requirement already satisfied: numpy<3,>=1.17 in /usr/local/lib/python3.10/dist-packages (from qiskit) (1.26.4)\n",
            "Requirement already satisfied: scipy>=1.5 in /usr/local/lib/python3.10/dist-packages (from qiskit) (1.13.1)\n",
            "Requirement already satisfied: sympy>=1.3 in /usr/local/lib/python3.10/dist-packages (from qiskit) (1.13.1)\n",
            "Collecting dill>=0.3 (from qiskit)\n",
            "  Downloading dill-0.3.9-py3-none-any.whl.metadata (10 kB)\n",
            "Requirement already satisfied: python-dateutil>=2.8.0 in /usr/local/lib/python3.10/dist-packages (from qiskit) (2.8.2)\n",
            "Collecting stevedore>=3.0.0 (from qiskit)\n",
            "  Downloading stevedore-5.3.0-py3-none-any.whl.metadata (2.3 kB)\n",
            "Requirement already satisfied: typing-extensions in /usr/local/lib/python3.10/dist-packages (from qiskit) (4.12.2)\n",
            "Collecting symengine<0.14,>=0.11 (from qiskit)\n",
            "  Downloading symengine-0.13.0-cp310-cp310-manylinux_2_17_x86_64.manylinux2014_x86_64.whl.metadata (1.2 kB)\n",
            "Requirement already satisfied: psutil>=5 in /usr/local/lib/python3.10/dist-packages (from qiskit_aer) (5.9.5)\n",
            "Requirement already satisfied: six>=1.5 in /usr/local/lib/python3.10/dist-packages (from python-dateutil>=2.8.0->qiskit) (1.16.0)\n",
            "Collecting pbr>=2.0.0 (from stevedore>=3.0.0->qiskit)\n",
            "  Downloading pbr-6.1.0-py2.py3-none-any.whl.metadata (3.4 kB)\n",
            "Requirement already satisfied: mpmath<1.4,>=1.1.0 in /usr/local/lib/python3.10/dist-packages (from sympy>=1.3->qiskit) (1.3.0)\n",
            "Downloading qiskit-1.2.4-cp38-abi3-manylinux_2_17_x86_64.manylinux2014_x86_64.whl (4.8 MB)\n",
            "\u001b[2K   \u001b[90m━━━━━━━━━━━━━━━━━━━━━━━━━━━━━━━━━━━━━━━━\u001b[0m \u001b[32m4.8/4.8 MB\u001b[0m \u001b[31m19.0 MB/s\u001b[0m eta \u001b[36m0:00:00\u001b[0m\n",
            "\u001b[?25hDownloading qiskit_aer-0.15.1-cp310-cp310-manylinux_2_17_x86_64.manylinux2014_x86_64.whl (12.3 MB)\n",
            "\u001b[2K   \u001b[90m━━━━━━━━━━━━━━━━━━━━━━━━━━━━━━━━━━━━━━━━\u001b[0m \u001b[32m12.3/12.3 MB\u001b[0m \u001b[31m21.4 MB/s\u001b[0m eta \u001b[36m0:00:00\u001b[0m\n",
            "\u001b[?25hDownloading dill-0.3.9-py3-none-any.whl (119 kB)\n",
            "\u001b[2K   \u001b[90m━━━━━━━━━━━━━━━━━━━━━━━━━━━━━━━━━━━━━━━━\u001b[0m \u001b[32m119.4/119.4 kB\u001b[0m \u001b[31m6.8 MB/s\u001b[0m eta \u001b[36m0:00:00\u001b[0m\n",
            "\u001b[?25hDownloading rustworkx-0.15.1-cp38-abi3-manylinux_2_17_x86_64.manylinux2014_x86_64.whl (2.0 MB)\n",
            "\u001b[2K   \u001b[90m━━━━━━━━━━━━━━━━━━━━━━━━━━━━━━━━━━━━━━━━\u001b[0m \u001b[32m2.0/2.0 MB\u001b[0m \u001b[31m19.0 MB/s\u001b[0m eta \u001b[36m0:00:00\u001b[0m\n",
            "\u001b[?25hDownloading stevedore-5.3.0-py3-none-any.whl (49 kB)\n",
            "\u001b[2K   \u001b[90m━━━━━━━━━━━━━━━━━━━━━━━━━━━━━━━━━━━━━━━━\u001b[0m \u001b[32m49.7/49.7 kB\u001b[0m \u001b[31m785.3 kB/s\u001b[0m eta \u001b[36m0:00:00\u001b[0m\n",
            "\u001b[?25hDownloading symengine-0.13.0-cp310-cp310-manylinux_2_17_x86_64.manylinux2014_x86_64.whl (49.7 MB)\n",
            "\u001b[2K   \u001b[90m━━━━━━━━━━━━━━━━━━━━━━━━━━━━━━━━━━━━━━━━\u001b[0m \u001b[32m49.7/49.7 MB\u001b[0m \u001b[31m9.7 MB/s\u001b[0m eta \u001b[36m0:00:00\u001b[0m\n",
            "\u001b[?25hDownloading pbr-6.1.0-py2.py3-none-any.whl (108 kB)\n",
            "\u001b[2K   \u001b[90m━━━━━━━━━━━━━━━━━━━━━━━━━━━━━━━━━━━━━━━━\u001b[0m \u001b[32m108.5/108.5 kB\u001b[0m \u001b[31m5.9 MB/s\u001b[0m eta \u001b[36m0:00:00\u001b[0m\n",
            "\u001b[?25hBuilding wheels for collected packages: pylatexenc\n",
            "  Building wheel for pylatexenc (setup.py) ... \u001b[?25l\u001b[?25hdone\n",
            "  Created wheel for pylatexenc: filename=pylatexenc-2.10-py3-none-any.whl size=136816 sha256=4e81ecc1d95d8e829764d9aff1fa71e5e8f590f9dcf864ff7bf02889b199494a\n",
            "  Stored in directory: /root/.cache/pip/wheels/d3/31/8b/e09b0386afd80cfc556c00408c9aeea5c35c4d484a9c762fd5\n",
            "Successfully built pylatexenc\n",
            "Installing collected packages: pylatexenc, symengine, rustworkx, pbr, dill, stevedore, qiskit, qiskit_aer\n",
            "Successfully installed dill-0.3.9 pbr-6.1.0 pylatexenc-2.10 qiskit-1.2.4 qiskit_aer-0.15.1 rustworkx-0.15.1 stevedore-5.3.0 symengine-0.13.0\n"
          ]
        }
      ],
      "source": [
        "!pip install qiskit qiskit_aer pylatexenc"
      ]
    },
    {
      "cell_type": "code",
      "source": [
        "import numpy as np\n",
        "import matplotlib.pyplot as plt\n",
        "from qiskit import QuantumCircuit, QuantumRegister, ClassicalRegister, transpile\n",
        "from qiskit_aer import AerSimulator\n",
        "from sympy.physics.quantum.qubit import matrix_to_qubit\n",
        "\n",
        "simulator = AerSimulator()\n",
        "\n",
        "def get_statevector(circuit):\n",
        "    circuit = circuit.copy()\n",
        "    circuit=circuit.reverse_bits()\n",
        "    circuit.save_statevector()\n",
        "    circuit = transpile(circuit, backend=simulator)\n",
        "    job = simulator.run(circuit)\n",
        "    result = job.result()\n",
        "    qiskit_statevector = result.data()['statevector']\n",
        "    return np.asarray(qiskit_statevector) .reshape(-1,1)\n",
        "\n",
        "def count_shots(circuit, shots):\n",
        "    circuit = circuit.copy()\n",
        "    circuit=circuit.reverse_bits()\n",
        "    circuit = transpile(circuit, backend=simulator)\n",
        "    return simulator.run(circuit, shots=shots).result().get_counts()"
      ],
      "metadata": {
        "id": "Liy7uG-ZL8Kl"
      },
      "execution_count": 4,
      "outputs": []
    },
    {
      "cell_type": "code",
      "source": [
        "# kadai3a\n",
        "# 量子レジスタと古典レジスタの作成\n",
        "register1 = QuantumRegister(6, name='reg1')\n",
        "output1 = ClassicalRegister(6, name='out1')\n",
        "\n",
        "# 量子回路の作成\n",
        "circuit = QuantumCircuit(register1, output1)\n",
        "\n",
        "# アダマールゲートを適用して均等な重ね合わせ状態を作成\n",
        "circuit.h(register1)\n",
        "print(\"アダマールゲート適用後の状態は\")\n",
        "display(matrix_to_qubit(get_statevector(circuit)))\n",
        "\n",
        "# 見やすくするための区切り線\n",
        "circuit.barrier(label=\"t1\")\n",
        "\n",
        "# 測定\n",
        "circuit.measure(register1, output1)\n",
        "print(\"測定後の状態は\")\n",
        "display(matrix_to_qubit(get_statevector(circuit)))\n",
        "\n",
        "# シミュレーションの実行と測定結果をカウント\n",
        "counts = count_shots(circuit, 10000)\n",
        "print(\"測定結果:\")\n",
        "display(counts)\n",
        "\n",
        "# 回路図の描画\n",
        "circuit.draw('mpl')"
      ],
      "metadata": {
        "colab": {
          "base_uri": "https://localhost:8080/",
          "height": 1000
        },
        "id": "sPKsAEdfODC7",
        "outputId": "f2c30724-5f2b-423b-b45d-906aacb722c7"
      },
      "execution_count": 51,
      "outputs": [
        {
          "output_type": "stream",
          "name": "stdout",
          "text": [
            "アダマールゲート適用後の状態は\n"
          ]
        },
        {
          "output_type": "display_data",
          "data": {
            "text/plain": [
              "0.125*|000000> + 0.125*|000001> + 0.125*|000010> + 0.125*|000011> + 0.125*|000100> + 0.125*|000101> + 0.125*|000110> + 0.125*|000111> + 0.125*|001000> + 0.125*|001001> + 0.125*|001010> + 0.125*|001011> + 0.125*|001100> + 0.125*|001101> + 0.125*|001110> + 0.125*|001111> + 0.125*|010000> + 0.125*|010001> + 0.125*|010010> + 0.125*|010011> + 0.125*|010100> + 0.125*|010101> + 0.125*|010110> + 0.125*|010111> + 0.125*|011000> + 0.125*|011001> + 0.125*|011010> + 0.125*|011011> + 0.125*|011100> + 0.125*|011101> + 0.125*|011110> + 0.125*|011111> + 0.125*|100000> + 0.125*|100001> + 0.125*|100010> + 0.125*|100011> + 0.125*|100100> + 0.125*|100101> + 0.125*|100110> + 0.125*|100111> + 0.125*|101000> + 0.125*|101001> + 0.125*|101010> + 0.125*|101011> + 0.125*|101100> + 0.125*|101101> + 0.125*|101110> + 0.125*|101111> + 0.125*|110000> + 0.125*|110001> + 0.125*|110010> + 0.125*|110011> + 0.125*|110100> + 0.125*|110101> + 0.125*|110110> + 0.125*|110111> + 0.125*|111000> + 0.125*|111001> + 0.125*|111010> + 0.125*|111011> + 0.125*|111100> + 0.125*|111101> + 0.125*|111110> + 0.125*|111111>"
            ],
            "text/latex": "$\\displaystyle 0.125 {\\left|000000\\right\\rangle } + 0.125 {\\left|000001\\right\\rangle } + 0.125 {\\left|000010\\right\\rangle } + 0.125 {\\left|000011\\right\\rangle } + 0.125 {\\left|000100\\right\\rangle } + 0.125 {\\left|000101\\right\\rangle } + 0.125 {\\left|000110\\right\\rangle } + 0.125 {\\left|000111\\right\\rangle } + 0.125 {\\left|001000\\right\\rangle } + 0.125 {\\left|001001\\right\\rangle } + 0.125 {\\left|001010\\right\\rangle } + 0.125 {\\left|001011\\right\\rangle } + 0.125 {\\left|001100\\right\\rangle } + 0.125 {\\left|001101\\right\\rangle } + 0.125 {\\left|001110\\right\\rangle } + 0.125 {\\left|001111\\right\\rangle } + 0.125 {\\left|010000\\right\\rangle } + 0.125 {\\left|010001\\right\\rangle } + 0.125 {\\left|010010\\right\\rangle } + 0.125 {\\left|010011\\right\\rangle } + 0.125 {\\left|010100\\right\\rangle } + 0.125 {\\left|010101\\right\\rangle } + 0.125 {\\left|010110\\right\\rangle } + 0.125 {\\left|010111\\right\\rangle } + 0.125 {\\left|011000\\right\\rangle } + 0.125 {\\left|011001\\right\\rangle } + 0.125 {\\left|011010\\right\\rangle } + 0.125 {\\left|011011\\right\\rangle } + 0.125 {\\left|011100\\right\\rangle } + 0.125 {\\left|011101\\right\\rangle } + 0.125 {\\left|011110\\right\\rangle } + 0.125 {\\left|011111\\right\\rangle } + 0.125 {\\left|100000\\right\\rangle } + 0.125 {\\left|100001\\right\\rangle } + 0.125 {\\left|100010\\right\\rangle } + 0.125 {\\left|100011\\right\\rangle } + 0.125 {\\left|100100\\right\\rangle } + 0.125 {\\left|100101\\right\\rangle } + 0.125 {\\left|100110\\right\\rangle } + 0.125 {\\left|100111\\right\\rangle } + 0.125 {\\left|101000\\right\\rangle } + 0.125 {\\left|101001\\right\\rangle } + 0.125 {\\left|101010\\right\\rangle } + 0.125 {\\left|101011\\right\\rangle } + 0.125 {\\left|101100\\right\\rangle } + 0.125 {\\left|101101\\right\\rangle } + 0.125 {\\left|101110\\right\\rangle } + 0.125 {\\left|101111\\right\\rangle } + 0.125 {\\left|110000\\right\\rangle } + 0.125 {\\left|110001\\right\\rangle } + 0.125 {\\left|110010\\right\\rangle } + 0.125 {\\left|110011\\right\\rangle } + 0.125 {\\left|110100\\right\\rangle } + 0.125 {\\left|110101\\right\\rangle } + 0.125 {\\left|110110\\right\\rangle } + 0.125 {\\left|110111\\right\\rangle } + 0.125 {\\left|111000\\right\\rangle } + 0.125 {\\left|111001\\right\\rangle } + 0.125 {\\left|111010\\right\\rangle } + 0.125 {\\left|111011\\right\\rangle } + 0.125 {\\left|111100\\right\\rangle } + 0.125 {\\left|111101\\right\\rangle } + 0.125 {\\left|111110\\right\\rangle } + 0.125 {\\left|111111\\right\\rangle }$"
          },
          "metadata": {}
        },
        {
          "output_type": "stream",
          "name": "stdout",
          "text": [
            "測定後の状態は\n"
          ]
        },
        {
          "output_type": "display_data",
          "data": {
            "text/plain": [
              "1.0*|101010>"
            ],
            "text/latex": "$\\displaystyle 1.0 {\\left|101010\\right\\rangle }$"
          },
          "metadata": {}
        },
        {
          "output_type": "stream",
          "name": "stdout",
          "text": [
            "測定結果:\n"
          ]
        },
        {
          "output_type": "display_data",
          "data": {
            "text/plain": [
              "{'110001': 135,\n",
              " '001101': 139,\n",
              " '001010': 148,\n",
              " '111001': 186,\n",
              " '010100': 177,\n",
              " '010111': 147,\n",
              " '111100': 161,\n",
              " '010000': 152,\n",
              " '110101': 156,\n",
              " '000010': 143,\n",
              " '011111': 149,\n",
              " '011011': 134,\n",
              " '001000': 151,\n",
              " '111101': 181,\n",
              " '001100': 171,\n",
              " '101011': 151,\n",
              " '101100': 158,\n",
              " '001111': 161,\n",
              " '101010': 146,\n",
              " '110011': 175,\n",
              " '000101': 158,\n",
              " '001001': 148,\n",
              " '110100': 170,\n",
              " '100100': 149,\n",
              " '111000': 126,\n",
              " '100010': 153,\n",
              " '000000': 149,\n",
              " '011110': 151,\n",
              " '111110': 158,\n",
              " '000110': 167,\n",
              " '010001': 182,\n",
              " '011100': 166,\n",
              " '110010': 168,\n",
              " '110000': 143,\n",
              " '001110': 144,\n",
              " '100101': 158,\n",
              " '000111': 171,\n",
              " '100001': 157,\n",
              " '010101': 148,\n",
              " '011001': 155,\n",
              " '101000': 167,\n",
              " '111111': 168,\n",
              " '101101': 182,\n",
              " '010110': 167,\n",
              " '111011': 142,\n",
              " '001011': 170,\n",
              " '011000': 148,\n",
              " '110110': 162,\n",
              " '100011': 159,\n",
              " '101111': 144,\n",
              " '101001': 146,\n",
              " '011010': 153,\n",
              " '000001': 172,\n",
              " '011101': 145,\n",
              " '010010': 144,\n",
              " '101110': 156,\n",
              " '010011': 165,\n",
              " '110111': 150,\n",
              " '100111': 174,\n",
              " '000100': 160,\n",
              " '111010': 138,\n",
              " '000011': 156,\n",
              " '100110': 132,\n",
              " '100000': 158}"
            ]
          },
          "metadata": {}
        },
        {
          "output_type": "execute_result",
          "data": {
            "text/plain": [
              "<Figure size 837.239x618.722 with 1 Axes>"
            ],
            "image/png": "[encoded data removed]"
          },
          "metadata": {},
          "execution_count": 51
        }
      ]
    },
    {
      "cell_type": "code",
      "source": [
        "# kadai3b\n",
        "# 量子レジスタと古典レジスタの作成\n",
        "register1 = QuantumRegister(2, name='reg1')\n",
        "register2 = QuantumRegister(1, name='reg2')\n",
        "output1 = ClassicalRegister(1, name='out1')\n",
        "\n",
        "# 量子回路の作成\n",
        "circuit = QuantumCircuit(register1, register2, output1)\n",
        "\n",
        "# アダマールゲートを適用して均等な重ね合わせ状態を作成\n",
        "circuit.h(register1)\n",
        "print(\"初期状態は\")\n",
        "display(matrix_to_qubit(get_statevector(circuit)))\n",
        "\n",
        "# 見やすくするための区切り線\n",
        "circuit.barrier(label=\"t1\")\n",
        "\n",
        "# ド・モルガンの法則に基づく OR 演算\n",
        "circuit.x(register1)  # NOT A と NOT B を作る\n",
        "circuit.mcx([register1[0], register1[1]], register2[0])  # AND 演算\n",
        "circuit.x(register2[0])  # NOT (A AND B)\n",
        "circuit.x(register1)  # 元に戻す\n",
        "\n",
        "print(\"OR 演算後の状態は\")\n",
        "display(matrix_to_qubit(get_statevector(circuit)))\n",
        "\n",
        "# 測定\n",
        "circuit.measure(register2, output1)\n",
        "print(\"測定後の状態は\")\n",
        "display(matrix_to_qubit(get_statevector(circuit)))\n",
        "\n",
        "# シミュレーションの実行と測定結果をカウント\n",
        "counts = count_shots(circuit, 1000)\n",
        "print(\"測定結果:\")\n",
        "display(counts)\n",
        "\n",
        "# 回路図の描画\n",
        "circuit.draw('mpl')"
      ],
      "metadata": {
        "colab": {
          "base_uri": "https://localhost:8080/",
          "height": 470
        },
        "id": "bOwWarPMQixc",
        "outputId": "2200e4bb-9e64-4a7f-98c0-9223d0851256"
      },
      "execution_count": 52,
      "outputs": [
        {
          "output_type": "stream",
          "name": "stdout",
          "text": [
            "初期状態は\n"
          ]
        },
        {
          "output_type": "display_data",
          "data": {
            "text/plain": [
              "0.5*|000> + 0.5*|010> + 0.5*|100> + 0.5*|110>"
            ],
            "text/latex": "$\\displaystyle 0.5 {\\left|000\\right\\rangle } + 0.5 {\\left|010\\right\\rangle } + 0.5 {\\left|100\\right\\rangle } + 0.5 {\\left|110\\right\\rangle }$"
          },
          "metadata": {}
        },
        {
          "output_type": "stream",
          "name": "stdout",
          "text": [
            "OR 演算後の状態は\n"
          ]
        },
        {
          "output_type": "display_data",
          "data": {
            "text/plain": [
              "0.5*|000> + 0.5*|011> + 0.5*|101> + 0.5*|111>"
            ],
            "text/latex": "$\\displaystyle 0.5 {\\left|000\\right\\rangle } + 0.5 {\\left|011\\right\\rangle } + 0.5 {\\left|101\\right\\rangle } + 0.5 {\\left|111\\right\\rangle }$"
          },
          "metadata": {}
        },
        {
          "output_type": "stream",
          "name": "stdout",
          "text": [
            "測定後の状態は\n"
          ]
        },
        {
          "output_type": "display_data",
          "data": {
            "text/plain": [
              "0.577350269189626*|011> + 0.577350269189626*|101> + 0.577350269189626*|111>"
            ],
            "text/latex": "$\\displaystyle 0.577350269189626 {\\left|011\\right\\rangle } + 0.577350269189626 {\\left|101\\right\\rangle } + 0.577350269189626 {\\left|111\\right\\rangle }$"
          },
          "metadata": {}
        },
        {
          "output_type": "stream",
          "name": "stdout",
          "text": [
            "測定結果:\n"
          ]
        },
        {
          "output_type": "display_data",
          "data": {
            "text/plain": [
              "{'0': 245, '1': 755}"
            ]
          },
          "metadata": {}
        },
        {
          "output_type": "execute_result",
          "data": {
            "text/plain": [
              "<Figure size 669.815x367.889 with 1 Axes>"
            ],
            "image/png": "[encoded data removed]"
          },
          "metadata": {},
          "execution_count": 52
        }
      ]
    },
    {
      "cell_type": "code",
      "source": [
        "# kadai3c\n",
        "\n",
        "registerA = QuantumRegister(2, name='regA')\n",
        "registerB = QuantumRegister(1, name='regB')\n",
        "cl = ClassicalRegister(2, name='cl')\n",
        "\n",
        "# 量子回路の作成\n",
        "circuit = QuantumCircuit(registerA, registerB, cl)\n",
        "\n",
        "circuit.ry(2.3, registerA[0])\n",
        "circuit.rz(5.6, registerA[0])\n",
        "\n",
        "print(\"テレポーテーション前の量子状態:\")\n",
        "display(matrix_to_qubit(get_statevector(circuit)))\n",
        "\n",
        "circuit.barrier(label=\"t1\")\n",
        "\n",
        "circuit.h(registerA[1])\n",
        "circuit.mcx([registerA[1]], registerB[0])\n",
        "\n",
        "circuit.barrier(label=\"t2\")\n",
        "\n",
        "circuit.mcx([registerA[0]], registerA[1])\n",
        "circuit.h(registerA[0])\n",
        "\n",
        "circuit.barrier(label=\"t3\")\n",
        "circuit.measure(registerA[0], cl[0])\n",
        "circuit.measure(registerA[1], cl[1])\n",
        "\n",
        "circuit.z(registerB[0]).c_if(cl[0], 1)\n",
        "circuit.x(registerB[0]).c_if(cl[1], 1)\n",
        "\n",
        "\n",
        "print(\"テレポーテーション後の量子状態:\")\n",
        "display(matrix_to_qubit(get_statevector(circuit)))\n",
        "\n",
        "# 回路図の描画\n",
        "circuit.draw('mpl')"
      ],
      "metadata": {
        "colab": {
          "base_uri": "https://localhost:8080/",
          "height": 399
        },
        "id": "p0ImGOc9Qmz0",
        "outputId": "d91ca5e8-4ff0-4603-dc7d-adf0d14596e7"
      },
      "execution_count": 53,
      "outputs": [
        {
          "output_type": "stream",
          "name": "stdout",
          "text": [
            "テレポーテーション前の量子状態:\n"
          ]
        },
        {
          "output_type": "display_data",
          "data": {
            "text/plain": [
              "-0.384885992683621*|000> - 0.136838452183703*I*|000> - 0.860026576270215*|100> + 0.305765103876887*I*|100>"
            ],
            "text/latex": "$\\displaystyle - 0.384885992683621 {\\left|000\\right\\rangle } - 0.136838452183703 i {\\left|000\\right\\rangle } - 0.860026576270215 {\\left|100\\right\\rangle } + 0.305765103876887 i {\\left|100\\right\\rangle }$"
          },
          "metadata": {}
        },
        {
          "output_type": "stream",
          "name": "stdout",
          "text": [
            "テレポーテーション後の量子状態:\n"
          ]
        },
        {
          "output_type": "display_data",
          "data": {
            "text/plain": [
              "-0.384885992683621*|000> - 0.136838452183703*I*|000> - 0.860026576270215*|001> + 0.305765103876887*I*|001>"
            ],
            "text/latex": "$\\displaystyle - 0.384885992683621 {\\left|000\\right\\rangle } - 0.136838452183703 i {\\left|000\\right\\rangle } - 0.860026576270215 {\\left|001\\right\\rangle } + 0.305765103876887 i {\\left|001\\right\\rangle }$"
          },
          "metadata": {}
        },
        {
          "output_type": "execute_result",
          "data": {
            "text/plain": [
              "<Figure size 1256.69x367.889 with 1 Axes>"
            ],
            "image/png": "[encoded data removed]"
          },
          "metadata": {},
          "execution_count": 53
        }
      ]
    },
    {
      "cell_type": "code",
      "source": [
        "#kadai3d\n",
        "\n",
        "def calculate_expectation(theta_1, theta_2):\n",
        "    # 量子回路の作成\n",
        "    circuit = QuantumCircuit(2, 2)\n",
        "\n",
        "    # (i) エンタングルメントの作成\n",
        "    circuit.h(0)\n",
        "    circuit.cx(0, 1)\n",
        "\n",
        "    # (ii) 回転ゲートの適用\n",
        "    circuit.ry(theta_1, 0)\n",
        "    circuit.ry(theta_2, 1)\n",
        "\n",
        "    # (iii)測定\n",
        "    circuit.measure([0, 1], [0, 1])\n",
        "\n",
        "    # シミュレーションの実行\n",
        "    counts = count_shots(circuit, 10000)\n",
        "\n",
        "    # (iv) AとBの期待値計算\n",
        "    ab_expectation = (counts.get('00', 0) + counts.get('11', 0) - counts.get('01', 0) - counts.get('10', 0)) / 10000\n",
        "\n",
        "    return ab_expectation\n",
        "\n",
        "\n",
        "# 実験1: θ_1=0, θ_2=π/4\n",
        "ex1 = calculate_expectation(0,  np.pi / 4)\n",
        "\n",
        "# 実験2: θ_1=0, θ_2=3π/4\n",
        "ex2 = calculate_expectation(0, 3 * np.pi / 4)\n",
        "\n",
        "# 実験3: θ_1=π/2, θ_2=π/4\n",
        "ex3 = calculate_expectation(np.pi / 2, np.pi / 4)\n",
        "\n",
        "# 実験4: θ_1=π/2, θ_2=3π/4\n",
        "ex4 = calculate_expectation(np.pi / 2, 3 * np.pi / 4)\n",
        "\n",
        "print(ex1 - ex2 + ex3 + ex4)"
      ],
      "metadata": {
        "colab": {
          "base_uri": "https://localhost:8080/"
        },
        "id": "FBgi78SORww6",
        "outputId": "115183d4-3167-4863-9ffd-f9ebf7c48a4f"
      },
      "execution_count": 62,
      "outputs": [
        {
          "output_type": "stream",
          "name": "stdout",
          "text": [
            "2.819\n"
          ]
        }
      ]
    }
  ]
}