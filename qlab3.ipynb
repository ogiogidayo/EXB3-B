{
  "nbformat": 4,
  "nbformat_minor": 0,
  "metadata": {
    "colab": {
      "provenance": [],
      "authorship_tag": "ABX9TyPzI3v3I5NMNR3qpCzSvbF1",
      "include_colab_link": true
    },
    "kernelspec": {
      "name": "python3",
      "display_name": "Python 3"
    },
    "language_info": {
      "name": "python"
    }
  },
  "cells": [
    {
      "cell_type": "markdown",
      "metadata": {
        "id": "view-in-github",
        "colab_type": "text"
      },
      "source": [
        "<a href=\"https://colab.research.google.com/github/ogiogidayo/EXB3-B/blob/main/qlab3.ipynb\" target=\"_parent\"><img src=\"https://colab.research.google.com/assets/colab-badge.svg\" alt=\"Open In Colab\"/></a>"
      ]
    },
    {
      "cell_type": "code",
      "execution_count": 1,
      "metadata": {
        "colab": {
          "base_uri": "https://localhost:8080/"
        },
        "id": "HctGg2kgL0fb",
        "outputId": "429c85f5-9e2f-48da-fc0f-2748b490a9c0"
      },
      "outputs": [
        {
          "output_type": "stream",
          "name": "stdout",
          "text": [
            "Collecting qiskit\n",
            "  Downloading qiskit-1.2.4-cp38-abi3-manylinux_2_17_x86_64.manylinux2014_x86_64.whl.metadata (12 kB)\n",
            "Collecting qiskit_aer\n",
            "  Downloading qiskit_aer-0.15.1-cp310-cp310-manylinux_2_17_x86_64.manylinux2014_x86_64.whl.metadata (8.0 kB)\n",
            "Collecting pylatexenc\n",
            "  Downloading pylatexenc-2.10.tar.gz (162 kB)\n",
            "\u001b[2K     \u001b[90m━━━━━━━━━━━━━━━━━━━━━━━━━━━━━━━━━━━━━━━━\u001b[0m \u001b[32m162.6/162.6 kB\u001b[0m \u001b[31m5.4 MB/s\u001b[0m eta \u001b[36m0:00:00\u001b[0m\n",
            "\u001b[?25h  Preparing metadata (setup.py) ... \u001b[?25l\u001b[?25hdone\n",
            "Collecting rustworkx>=0.15.0 (from qiskit)\n",
            "  Downloading rustworkx-0.15.1-cp38-abi3-manylinux_2_17_x86_64.manylinux2014_x86_64.whl.metadata (9.9 kB)\n",
            "Requirement already satisfied: numpy<3,>=1.17 in /usr/local/lib/python3.10/dist-packages (from qiskit) (1.26.4)\n",
            "Requirement already satisfied: scipy>=1.5 in /usr/local/lib/python3.10/dist-packages (from qiskit) (1.13.1)\n",
            "Requirement already satisfied: sympy>=1.3 in /usr/local/lib/python3.10/dist-packages (from qiskit) (1.13.1)\n",
            "Collecting dill>=0.3 (from qiskit)\n",
            "  Downloading dill-0.3.9-py3-none-any.whl.metadata (10 kB)\n",
            "Requirement already satisfied: python-dateutil>=2.8.0 in /usr/local/lib/python3.10/dist-packages (from qiskit) (2.8.2)\n",
            "Collecting stevedore>=3.0.0 (from qiskit)\n",
            "  Downloading stevedore-5.3.0-py3-none-any.whl.metadata (2.3 kB)\n",
            "Requirement already satisfied: typing-extensions in /usr/local/lib/python3.10/dist-packages (from qiskit) (4.12.2)\n",
            "Collecting symengine<0.14,>=0.11 (from qiskit)\n",
            "  Downloading symengine-0.13.0-cp310-cp310-manylinux_2_17_x86_64.manylinux2014_x86_64.whl.metadata (1.2 kB)\n",
            "Requirement already satisfied: psutil>=5 in /usr/local/lib/python3.10/dist-packages (from qiskit_aer) (5.9.5)\n",
            "Requirement already satisfied: six>=1.5 in /usr/local/lib/python3.10/dist-packages (from python-dateutil>=2.8.0->qiskit) (1.16.0)\n",
            "Collecting pbr>=2.0.0 (from stevedore>=3.0.0->qiskit)\n",
            "  Downloading pbr-6.1.0-py2.py3-none-any.whl.metadata (3.4 kB)\n",
            "Requirement already satisfied: mpmath<1.4,>=1.1.0 in /usr/local/lib/python3.10/dist-packages (from sympy>=1.3->qiskit) (1.3.0)\n",
            "Downloading qiskit-1.2.4-cp38-abi3-manylinux_2_17_x86_64.manylinux2014_x86_64.whl (4.8 MB)\n",
            "\u001b[2K   \u001b[90m━━━━━━━━━━━━━━━━━━━━━━━━━━━━━━━━━━━━━━━━\u001b[0m \u001b[32m4.8/4.8 MB\u001b[0m \u001b[31m19.0 MB/s\u001b[0m eta \u001b[36m0:00:00\u001b[0m\n",
            "\u001b[?25hDownloading qiskit_aer-0.15.1-cp310-cp310-manylinux_2_17_x86_64.manylinux2014_x86_64.whl (12.3 MB)\n",
            "\u001b[2K   \u001b[90m━━━━━━━━━━━━━━━━━━━━━━━━━━━━━━━━━━━━━━━━\u001b[0m \u001b[32m12.3/12.3 MB\u001b[0m \u001b[31m21.4 MB/s\u001b[0m eta \u001b[36m0:00:00\u001b[0m\n",
            "\u001b[?25hDownloading dill-0.3.9-py3-none-any.whl (119 kB)\n",
            "\u001b[2K   \u001b[90m━━━━━━━━━━━━━━━━━━━━━━━━━━━━━━━━━━━━━━━━\u001b[0m \u001b[32m119.4/119.4 kB\u001b[0m \u001b[31m6.8 MB/s\u001b[0m eta \u001b[36m0:00:00\u001b[0m\n",
            "\u001b[?25hDownloading rustworkx-0.15.1-cp38-abi3-manylinux_2_17_x86_64.manylinux2014_x86_64.whl (2.0 MB)\n",
            "\u001b[2K   \u001b[90m━━━━━━━━━━━━━━━━━━━━━━━━━━━━━━━━━━━━━━━━\u001b[0m \u001b[32m2.0/2.0 MB\u001b[0m \u001b[31m19.0 MB/s\u001b[0m eta \u001b[36m0:00:00\u001b[0m\n",
            "\u001b[?25hDownloading stevedore-5.3.0-py3-none-any.whl (49 kB)\n",
            "\u001b[2K   \u001b[90m━━━━━━━━━━━━━━━━━━━━━━━━━━━━━━━━━━━━━━━━\u001b[0m \u001b[32m49.7/49.7 kB\u001b[0m \u001b[31m785.3 kB/s\u001b[0m eta \u001b[36m0:00:00\u001b[0m\n",
            "\u001b[?25hDownloading symengine-0.13.0-cp310-cp310-manylinux_2_17_x86_64.manylinux2014_x86_64.whl (49.7 MB)\n",
            "\u001b[2K   \u001b[90m━━━━━━━━━━━━━━━━━━━━━━━━━━━━━━━━━━━━━━━━\u001b[0m \u001b[32m49.7/49.7 MB\u001b[0m \u001b[31m9.7 MB/s\u001b[0m eta \u001b[36m0:00:00\u001b[0m\n",
            "\u001b[?25hDownloading pbr-6.1.0-py2.py3-none-any.whl (108 kB)\n",
            "\u001b[2K   \u001b[90m━━━━━━━━━━━━━━━━━━━━━━━━━━━━━━━━━━━━━━━━\u001b[0m \u001b[32m108.5/108.5 kB\u001b[0m \u001b[31m5.9 MB/s\u001b[0m eta \u001b[36m0:00:00\u001b[0m\n",
            "\u001b[?25hBuilding wheels for collected packages: pylatexenc\n",
            "  Building wheel for pylatexenc (setup.py) ... \u001b[?25l\u001b[?25hdone\n",
            "  Created wheel for pylatexenc: filename=pylatexenc-2.10-py3-none-any.whl size=136816 sha256=4e81ecc1d95d8e829764d9aff1fa71e5e8f590f9dcf864ff7bf02889b199494a\n",
            "  Stored in directory: /root/.cache/pip/wheels/d3/31/8b/e09b0386afd80cfc556c00408c9aeea5c35c4d484a9c762fd5\n",
            "Successfully built pylatexenc\n",
            "Installing collected packages: pylatexenc, symengine, rustworkx, pbr, dill, stevedore, qiskit, qiskit_aer\n",
            "Successfully installed dill-0.3.9 pbr-6.1.0 pylatexenc-2.10 qiskit-1.2.4 qiskit_aer-0.15.1 rustworkx-0.15.1 stevedore-5.3.0 symengine-0.13.0\n"
          ]
        }
      ],
      "source": [
        "!pip install qiskit qiskit_aer pylatexenc"
      ]
    },
    {
      "cell_type": "code",
      "source": [
        "import numpy as np\n",
        "import matplotlib.pyplot as plt\n",
        "from qiskit import QuantumCircuit, QuantumRegister, ClassicalRegister, transpile\n",
        "from qiskit_aer import AerSimulator\n",
        "from sympy.physics.quantum.qubit import matrix_to_qubit\n",
        "\n",
        "simulator = AerSimulator()\n",
        "\n",
        "def get_statevector(circuit):\n",
        "    circuit = circuit.copy()\n",
        "    circuit=circuit.reverse_bits()\n",
        "    circuit.save_statevector()\n",
        "    circuit = transpile(circuit, backend=simulator)\n",
        "    job = simulator.run(circuit)\n",
        "    result = job.result()\n",
        "    qiskit_statevector = result.data()['statevector']\n",
        "    return np.asarray(qiskit_statevector) .reshape(-1,1)\n",
        "\n",
        "def count_shots(circuit, shots):\n",
        "    circuit = circuit.copy()\n",
        "    circuit=circuit.reverse_bits()\n",
        "    circuit = transpile(circuit, backend=simulator)\n",
        "    return simulator.run(circuit, shots=shots).result().get_counts()"
      ],
      "metadata": {
        "id": "Liy7uG-ZL8Kl"
      },
      "execution_count": 4,
      "outputs": []
    },
    {
      "cell_type": "code",
      "source": [
        "register1 = QuantumRegister(2, name='reg1') #量子レジスタ1 (2qubit)\n",
        "register2 = QuantumRegister(1, name='reg2') #量子レジスタ2 (1qubit)\n",
        "output1 = ClassicalRegister(1, name='out1') #古典レジスタ  (1bit)\n",
        "\n",
        "circuit = QuantumCircuit(register1, register2, output1) #レジスタを合わせて回路に\n",
        "\n",
        "circuit.h(register1) #アダマールgeta、ここで均等な重ね合わせ状態が作られる。\n",
        "#circuit.h(register1[0]) と circuit.h(register1[1]) に分けてもよい。\n",
        "print(\"toffoli 前の状態は\") #↓状態の表示\n",
        "display(matrix_to_qubit( get_statevector(circuit) ))\n",
        "\n",
        "circuit.barrier(label=\"t1\") #見やすくするための区切り線\n",
        "\n",
        "circuit.mcx([register1[0],register1[1]],register2[0]) #Toffoli gate\n",
        "print(\"toffoli 後の状態は\") #↓状態の表示\n",
        "display(matrix_to_qubit( get_statevector(circuit) ))\n",
        "\n",
        "circuit.measure(register2, output1) #測定\n",
        "print(\"reg2 の測定後の状態は\") #↓状態の表示\n",
        "display(matrix_to_qubit( get_statevector(circuit) ))\n",
        "\n",
        "circuit.draw('mpl') #回路図の描画"
      ],
      "metadata": {
        "colab": {
          "base_uri": "https://localhost:8080/",
          "height": 435
        },
        "id": "wrlfq9E-MC7-",
        "outputId": "4195b7b0-6006-4a21-bb64-07934e903147"
      },
      "execution_count": 5,
      "outputs": [
        {
          "output_type": "stream",
          "name": "stdout",
          "text": [
            "toffoli 前の状態は\n"
          ]
        },
        {
          "output_type": "display_data",
          "data": {
            "text/plain": [
              "0.5*|000> + 0.5*|010> + 0.5*|100> + 0.5*|110>"
            ],
            "text/latex": "$\\displaystyle 0.5 {\\left|000\\right\\rangle } + 0.5 {\\left|010\\right\\rangle } + 0.5 {\\left|100\\right\\rangle } + 0.5 {\\left|110\\right\\rangle }$"
          },
          "metadata": {}
        },
        {
          "output_type": "stream",
          "name": "stdout",
          "text": [
            "toffoli 後の状態は\n"
          ]
        },
        {
          "output_type": "display_data",
          "data": {
            "text/plain": [
              "0.5*|000> + 0.5*|010> + 0.5*|100> + 0.5*|111>"
            ],
            "text/latex": "$\\displaystyle 0.5 {\\left|000\\right\\rangle } + 0.5 {\\left|010\\right\\rangle } + 0.5 {\\left|100\\right\\rangle } + 0.5 {\\left|111\\right\\rangle }$"
          },
          "metadata": {}
        },
        {
          "output_type": "stream",
          "name": "stdout",
          "text": [
            "reg2 の測定後の状態は\n"
          ]
        },
        {
          "output_type": "display_data",
          "data": {
            "text/plain": [
              "0.577350269189626*|000> + 0.577350269189626*|010> + 0.577350269189626*|100>"
            ],
            "text/latex": "$\\displaystyle 0.577350269189626 {\\left|000\\right\\rangle } + 0.577350269189626 {\\left|010\\right\\rangle } + 0.577350269189626 {\\left|100\\right\\rangle }$"
          },
          "metadata": {}
        },
        {
          "output_type": "execute_result",
          "data": {
            "text/plain": [
              "<Figure size 502.593x367.889 with 1 Axes>"
            ],
            "image/png": "[encoded data removed]"
          },
          "metadata": {},
          "execution_count": 5
        }
      ]
    },
    {
      "cell_type": "code",
      "source": [
        "counts=count_shots(circuit,1000) #1000 回測定してカウント\n",
        "display(counts) #count[‘0’] や count[‘1’] で要素が取り出せる、辞書形式。"
      ],
      "metadata": {
        "colab": {
          "base_uri": "https://localhost:8080/",
          "height": 35
        },
        "id": "rdYeghLINI78",
        "outputId": "570e65bb-99f0-4f3f-a559-9f13356666c1"
      },
      "execution_count": 6,
      "outputs": [
        {
          "output_type": "display_data",
          "data": {
            "text/plain": [
              "{'0': 740, '1': 260}"
            ]
          },
          "metadata": {}
        }
      ]
    },
    {
      "cell_type": "code",
      "source": [
        "# 量子レジスタと古典レジスタの作成\n",
        "register1 = QuantumRegister(6, name='reg1')\n",
        "output1 = ClassicalRegister(6, name='out1')\n",
        "\n",
        "# 量子回路の作成\n",
        "circuit = QuantumCircuit(register1, output1)\n",
        "\n",
        "# アダマールゲートを適用して均等な重ね合わせ状態を作成\n",
        "circuit.h(register1)\n",
        "print(\"アダマールゲート適用後の状態は\")\n",
        "display(matrix_to_qubit(get_statevector(circuit)))\n",
        "\n",
        "# 見やすくするための区切り線\n",
        "circuit.barrier(label=\"t1\")\n",
        "\n",
        "# 測定\n",
        "circuit.measure(register1, output1)\n",
        "print(\"測定後の状態は\")\n",
        "display(matrix_to_qubit(get_statevector(circuit)))\n",
        "\n",
        "# シミュレーションの実行と測定結果をカウント\n",
        "counts = count_shots(circuit, 10000)\n",
        "print(\"測定結果:\")\n",
        "display(counts)\n",
        "\n",
        "# 回路図の描画\n",
        "circuit.draw('mpl')"
      ],
      "metadata": {
        "colab": {
          "base_uri": "https://localhost:8080/",
          "height": 1000
        },
        "id": "sPKsAEdfODC7",
        "outputId": "f29a4200-ede2-454b-a263-656e5bb57608"
      },
      "execution_count": 13,
      "outputs": [
        {
          "output_type": "stream",
          "name": "stdout",
          "text": [
            "アダマールゲート適用後の状態は\n"
          ]
        },
        {
          "output_type": "display_data",
          "data": {
            "text/plain": [
              "0.125*|000000> + 0.125*|000001> + 0.125*|000010> + 0.125*|000011> + 0.125*|000100> + 0.125*|000101> + 0.125*|000110> + 0.125*|000111> + 0.125*|001000> + 0.125*|001001> + 0.125*|001010> + 0.125*|001011> + 0.125*|001100> + 0.125*|001101> + 0.125*|001110> + 0.125*|001111> + 0.125*|010000> + 0.125*|010001> + 0.125*|010010> + 0.125*|010011> + 0.125*|010100> + 0.125*|010101> + 0.125*|010110> + 0.125*|010111> + 0.125*|011000> + 0.125*|011001> + 0.125*|011010> + 0.125*|011011> + 0.125*|011100> + 0.125*|011101> + 0.125*|011110> + 0.125*|011111> + 0.125*|100000> + 0.125*|100001> + 0.125*|100010> + 0.125*|100011> + 0.125*|100100> + 0.125*|100101> + 0.125*|100110> + 0.125*|100111> + 0.125*|101000> + 0.125*|101001> + 0.125*|101010> + 0.125*|101011> + 0.125*|101100> + 0.125*|101101> + 0.125*|101110> + 0.125*|101111> + 0.125*|110000> + 0.125*|110001> + 0.125*|110010> + 0.125*|110011> + 0.125*|110100> + 0.125*|110101> + 0.125*|110110> + 0.125*|110111> + 0.125*|111000> + 0.125*|111001> + 0.125*|111010> + 0.125*|111011> + 0.125*|111100> + 0.125*|111101> + 0.125*|111110> + 0.125*|111111>"
            ],
            "text/latex": "$\\displaystyle 0.125 {\\left|000000\\right\\rangle } + 0.125 {\\left|000001\\right\\rangle } + 0.125 {\\left|000010\\right\\rangle } + 0.125 {\\left|000011\\right\\rangle } + 0.125 {\\left|000100\\right\\rangle } + 0.125 {\\left|000101\\right\\rangle } + 0.125 {\\left|000110\\right\\rangle } + 0.125 {\\left|000111\\right\\rangle } + 0.125 {\\left|001000\\right\\rangle } + 0.125 {\\left|001001\\right\\rangle } + 0.125 {\\left|001010\\right\\rangle } + 0.125 {\\left|001011\\right\\rangle } + 0.125 {\\left|001100\\right\\rangle } + 0.125 {\\left|001101\\right\\rangle } + 0.125 {\\left|001110\\right\\rangle } + 0.125 {\\left|001111\\right\\rangle } + 0.125 {\\left|010000\\right\\rangle } + 0.125 {\\left|010001\\right\\rangle } + 0.125 {\\left|010010\\right\\rangle } + 0.125 {\\left|010011\\right\\rangle } + 0.125 {\\left|010100\\right\\rangle } + 0.125 {\\left|010101\\right\\rangle } + 0.125 {\\left|010110\\right\\rangle } + 0.125 {\\left|010111\\right\\rangle } + 0.125 {\\left|011000\\right\\rangle } + 0.125 {\\left|011001\\right\\rangle } + 0.125 {\\left|011010\\right\\rangle } + 0.125 {\\left|011011\\right\\rangle } + 0.125 {\\left|011100\\right\\rangle } + 0.125 {\\left|011101\\right\\rangle } + 0.125 {\\left|011110\\right\\rangle } + 0.125 {\\left|011111\\right\\rangle } + 0.125 {\\left|100000\\right\\rangle } + 0.125 {\\left|100001\\right\\rangle } + 0.125 {\\left|100010\\right\\rangle } + 0.125 {\\left|100011\\right\\rangle } + 0.125 {\\left|100100\\right\\rangle } + 0.125 {\\left|100101\\right\\rangle } + 0.125 {\\left|100110\\right\\rangle } + 0.125 {\\left|100111\\right\\rangle } + 0.125 {\\left|101000\\right\\rangle } + 0.125 {\\left|101001\\right\\rangle } + 0.125 {\\left|101010\\right\\rangle } + 0.125 {\\left|101011\\right\\rangle } + 0.125 {\\left|101100\\right\\rangle } + 0.125 {\\left|101101\\right\\rangle } + 0.125 {\\left|101110\\right\\rangle } + 0.125 {\\left|101111\\right\\rangle } + 0.125 {\\left|110000\\right\\rangle } + 0.125 {\\left|110001\\right\\rangle } + 0.125 {\\left|110010\\right\\rangle } + 0.125 {\\left|110011\\right\\rangle } + 0.125 {\\left|110100\\right\\rangle } + 0.125 {\\left|110101\\right\\rangle } + 0.125 {\\left|110110\\right\\rangle } + 0.125 {\\left|110111\\right\\rangle } + 0.125 {\\left|111000\\right\\rangle } + 0.125 {\\left|111001\\right\\rangle } + 0.125 {\\left|111010\\right\\rangle } + 0.125 {\\left|111011\\right\\rangle } + 0.125 {\\left|111100\\right\\rangle } + 0.125 {\\left|111101\\right\\rangle } + 0.125 {\\left|111110\\right\\rangle } + 0.125 {\\left|111111\\right\\rangle }$"
          },
          "metadata": {}
        },
        {
          "output_type": "stream",
          "name": "stdout",
          "text": [
            "測定後の状態は\n"
          ]
        },
        {
          "output_type": "display_data",
          "data": {
            "text/plain": [
              "1.0*|001111>"
            ],
            "text/latex": "$\\displaystyle 1.0 {\\left|001111\\right\\rangle }$"
          },
          "metadata": {}
        },
        {
          "output_type": "stream",
          "name": "stdout",
          "text": [
            "測定結果:\n"
          ]
        },
        {
          "output_type": "display_data",
          "data": {
            "text/plain": [
              "{'110100': 167,\n",
              " '101111': 148,\n",
              " '101001': 157,\n",
              " '100101': 151,\n",
              " '001111': 153,\n",
              " '101010': 142,\n",
              " '101100': 165,\n",
              " '010110': 149,\n",
              " '111101': 161,\n",
              " '001100': 166,\n",
              " '001000': 154,\n",
              " '011111': 153,\n",
              " '011011': 158,\n",
              " '001101': 150,\n",
              " '010000': 151,\n",
              " '000111': 155,\n",
              " '000101': 169,\n",
              " '110011': 141,\n",
              " '010111': 162,\n",
              " '010100': 175,\n",
              " '111111': 153,\n",
              " '111110': 141,\n",
              " '100001': 158,\n",
              " '010101': 168,\n",
              " '000000': 161,\n",
              " '011110': 162,\n",
              " '100110': 164,\n",
              " '100000': 165,\n",
              " '000011': 134,\n",
              " '110001': 177,\n",
              " '111010': 142,\n",
              " '101110': 167,\n",
              " '111001': 162,\n",
              " '001010': 139,\n",
              " '100111': 162,\n",
              " '000100': 176,\n",
              " '100010': 154,\n",
              " '111000': 162,\n",
              " '000010': 156,\n",
              " '110101': 155,\n",
              " '110000': 159,\n",
              " '111100': 147,\n",
              " '001001': 130,\n",
              " '010011': 140,\n",
              " '010010': 146,\n",
              " '111011': 166,\n",
              " '011000': 156,\n",
              " '001011': 146,\n",
              " '101101': 173,\n",
              " '001110': 170,\n",
              " '110110': 151,\n",
              " '100011': 149,\n",
              " '010001': 156,\n",
              " '000110': 156,\n",
              " '101011': 143,\n",
              " '011100': 176,\n",
              " '110010': 145,\n",
              " '011001': 154,\n",
              " '101000': 170,\n",
              " '011101': 157,\n",
              " '000001': 142,\n",
              " '011010': 178,\n",
              " '100100': 160,\n",
              " '110111': 145}"
            ]
          },
          "metadata": {}
        },
        {
          "output_type": "execute_result",
          "data": {
            "text/plain": [
              "<Figure size 837.239x618.722 with 1 Axes>"
            ],
            "image/png": "[encoded data removed]"
          },
          "metadata": {},
          "execution_count": 13
        }
      ]
    },
    {
      "cell_type": "code",
      "source": [
        "# kadai3b\n",
        "# 量子レジスタと古典レジスタの作成\n",
        "register1 = QuantumRegister(2, name='reg1')\n",
        "register2 = QuantumRegister(1, name='reg2')\n",
        "output1 = ClassicalRegister(1, name='out1')\n",
        "\n",
        "# 量子回路の作成\n",
        "circuit = QuantumCircuit(register1, register2, output1)\n",
        "\n",
        "# アダマールゲートを適用して均等な重ね合わせ状態を作成\n",
        "circuit.h(register1)\n",
        "print(\"初期状態は\")\n",
        "display(matrix_to_qubit(get_statevector(circuit)))\n",
        "\n",
        "# 見やすくするための区切り線\n",
        "circuit.barrier(label=\"t1\")\n",
        "\n",
        "# ド・モルガンの法則に基づく OR 演算\n",
        "circuit.x(register1)  # NOT A と NOT B を作る\n",
        "circuit.mcx([register1[0], register1[1]], register2[0])  # AND 演算\n",
        "circuit.x(register2[0])  # NOT (A AND B)\n",
        "circuit.x(register1)  # 元に戻す\n",
        "\n",
        "print(\"OR 演算後の状態は\")\n",
        "display(matrix_to_qubit(get_statevector(circuit)))\n",
        "\n",
        "# 測定\n",
        "circuit.measure(register2, output1)\n",
        "print(\"測定後の状態は\")\n",
        "display(matrix_to_qubit(get_statevector(circuit)))\n",
        "\n",
        "# シミュレーションの実行と測定結果をカウント\n",
        "counts = count_shots(circuit, 1000)\n",
        "print(\"測定結果:\")\n",
        "display(counts)\n",
        "\n",
        "# 回路図の描画\n",
        "circuit.draw('mpl')"
      ],
      "metadata": {
        "colab": {
          "base_uri": "https://localhost:8080/",
          "height": 470
        },
        "id": "bOwWarPMQixc",
        "outputId": "d0f52198-a601-483d-8fda-282d000f4f81"
      },
      "execution_count": 17,
      "outputs": [
        {
          "output_type": "stream",
          "name": "stdout",
          "text": [
            "初期状態は\n"
          ]
        },
        {
          "output_type": "display_data",
          "data": {
            "text/plain": [
              "0.5*|000> + 0.5*|010> + 0.5*|100> + 0.5*|110>"
            ],
            "text/latex": "$\\displaystyle 0.5 {\\left|000\\right\\rangle } + 0.5 {\\left|010\\right\\rangle } + 0.5 {\\left|100\\right\\rangle } + 0.5 {\\left|110\\right\\rangle }$"
          },
          "metadata": {}
        },
        {
          "output_type": "stream",
          "name": "stdout",
          "text": [
            "OR 演算後の状態は\n"
          ]
        },
        {
          "output_type": "display_data",
          "data": {
            "text/plain": [
              "0.5*|000> + 0.5*|011> + 0.5*|101> + 0.5*|111>"
            ],
            "text/latex": "$\\displaystyle 0.5 {\\left|000\\right\\rangle } + 0.5 {\\left|011\\right\\rangle } + 0.5 {\\left|101\\right\\rangle } + 0.5 {\\left|111\\right\\rangle }$"
          },
          "metadata": {}
        },
        {
          "output_type": "stream",
          "name": "stdout",
          "text": [
            "測定後の状態は\n"
          ]
        },
        {
          "output_type": "display_data",
          "data": {
            "text/plain": [
              "0.577350269189626*|011> + 0.577350269189626*|101> + 0.577350269189626*|111>"
            ],
            "text/latex": "$\\displaystyle 0.577350269189626 {\\left|011\\right\\rangle } + 0.577350269189626 {\\left|101\\right\\rangle } + 0.577350269189626 {\\left|111\\right\\rangle }$"
          },
          "metadata": {}
        },
        {
          "output_type": "stream",
          "name": "stdout",
          "text": [
            "測定結果:\n"
          ]
        },
        {
          "output_type": "display_data",
          "data": {
            "text/plain": [
              "{'0': 258, '1': 742}"
            ]
          },
          "metadata": {}
        },
        {
          "output_type": "execute_result",
          "data": {
            "text/plain": [
              "<Figure size 669.815x367.889 with 1 Axes>"
            ],
            "image/png": "[encoded data removed]"
          },
          "metadata": {},
          "execution_count": 17
        }
      ]
    },
    {
      "cell_type": "code",
      "source": [],
      "metadata": {
        "id": "p0ImGOc9Qmz0"
      },
      "execution_count": 14,
      "outputs": []
    }
  ]
}