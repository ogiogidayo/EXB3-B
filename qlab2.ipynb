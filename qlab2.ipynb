{
  "nbformat": 4,
  "nbformat_minor": 0,
  "metadata": {
    "colab": {
      "provenance": [],
      "authorship_tag": "ABX9TyP44Wy1jCXHQYjJrG4iBnbU",
      "include_colab_link": true
    },
    "kernelspec": {
      "name": "python3",
      "display_name": "Python 3"
    },
    "language_info": {
      "name": "python"
    }
  },
  "cells": [
    {
      "cell_type": "markdown",
      "metadata": {
        "id": "view-in-github",
        "colab_type": "text"
      },
      "source": [
        "<a href=\"https://colab.research.google.com/github/ogiogidayo/EXB3-B/blob/main/qlab2.ipynb\" target=\"_parent\"><img src=\"https://colab.research.google.com/assets/colab-badge.svg\" alt=\"Open In Colab\"/></a>"
      ]
    },
    {
      "cell_type": "code",
      "execution_count": 19,
      "metadata": {
        "colab": {
          "base_uri": "https://localhost:8080/"
        },
        "id": "N40uxcnrSna1",
        "outputId": "0df8e3ce-a0c2-4aff-f89a-ae3ecf1b647a"
      },
      "outputs": [
        {
          "output_type": "stream",
          "name": "stdout",
          "text": [
            "0.467273909317754*|0> - 0.139186104938131*I*|0> + 0.861013761558237*|1> - 0.144698390697306*I*|1>\n",
            "count 0: 23\n",
            "count 1: 77\n"
          ]
        }
      ],
      "source": [
        "# kadai2a\n",
        "import numpy as np\n",
        "from sympy.physics.quantum.qubit import matrix_to_qubit\n",
        "\n",
        "def Ry(theta):\n",
        "    return np.array([[np.cos(theta / 2), -np.sin(theta / 2)], [np.sin(theta / 2), np.cos(theta / 2)]])\n",
        "\n",
        "def Rz(theta):\n",
        "    return np.array([[np.exp(-1j * theta / 2), 0], [0, np.exp(1j * theta / 2)]])\n",
        "\n",
        "phi = np.array([[1], [0]])\n",
        "\n",
        "U = Rz(0.123) @ Ry(2.123) @ Rz(0.456)\n",
        "v = U @ phi\n",
        "\n",
        "vv = matrix_to_qubit(v)\n",
        "print(vv)\n",
        "\n",
        "# simulation\n",
        "probabilities = np.abs(v)**2\n",
        "measurements = np.random.choice(2, 100, p=probabilities.flatten())\n",
        "print(f\"count 0: {np.sum(measurements == 0)}\")\n",
        "print(f\"count 1: {np.sum(measurements == 1)}\")\n"
      ]
    },
    {
      "cell_type": "code",
      "source": [],
      "metadata": {
        "id": "eZeINNaoTx_S"
      },
      "execution_count": null,
      "outputs": []
    }
  ]
}