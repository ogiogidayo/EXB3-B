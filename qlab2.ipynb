{
  "nbformat": 4,
  "nbformat_minor": 0,
  "metadata": {
    "colab": {
      "provenance": [],
      "authorship_tag": "ABX9TyNYDcAKp3yziQz+E5wfazk/",
      "include_colab_link": true
    },
    "kernelspec": {
      "name": "python3",
      "display_name": "Python 3"
    },
    "language_info": {
      "name": "python"
    }
  },
  "cells": [
    {
      "cell_type": "markdown",
      "metadata": {
        "id": "view-in-github",
        "colab_type": "text"
      },
      "source": [
        "<a href=\"https://colab.research.google.com/github/ogiogidayo/EXB3-B/blob/main/qlab2.ipynb\" target=\"_parent\"><img src=\"https://colab.research.google.com/assets/colab-badge.svg\" alt=\"Open In Colab\"/></a>"
      ]
    },
    {
      "cell_type": "code",
      "execution_count": 1,
      "metadata": {
        "colab": {
          "base_uri": "https://localhost:8080/"
        },
        "id": "N40uxcnrSna1",
        "outputId": "00da4b60-45dc-424a-acb0-fd2e36d57c09"
      },
      "outputs": [
        {
          "output_type": "stream",
          "name": "stdout",
          "text": [
            "0.467273909317754*|0> - 0.139186104938131*I*|0> + 0.861013761558237*|1> - 0.144698390697306*I*|1>\n",
            "count 0: 14\n",
            "count 1: 86\n"
          ]
        }
      ],
      "source": [
        "# kadai2a\n",
        "import numpy as np\n",
        "from sympy.physics.quantum.qubit import matrix_to_qubit\n",
        "\n",
        "def Ry(theta):\n",
        "    return np.array([[np.cos(theta / 2), -np.sin(theta / 2)], [np.sin(theta / 2), np.cos(theta / 2)]])\n",
        "\n",
        "def Rz(theta):\n",
        "    return np.array([[np.exp(-1j * theta / 2), 0], [0, np.exp(1j * theta / 2)]])\n",
        "\n",
        "phi = np.array([[1], [0]])\n",
        "\n",
        "U = Rz(0.123) @ Ry(2.123) @ Rz(0.456)\n",
        "v = U @ phi\n",
        "\n",
        "vv = matrix_to_qubit(v)\n",
        "print(vv)\n",
        "\n",
        "# simulation\n",
        "probabilities = np.abs(v)**2\n",
        "measurements = np.random.choice(2, 100, p=probabilities.flatten())\n",
        "print(f\"count 0: {np.sum(measurements == 0)}\")\n",
        "print(f\"count 1: {np.sum(measurements == 1)}\")\n"
      ]
    },
    {
      "cell_type": "code",
      "source": [
        "# kadai2b\n",
        "import numpy as np\n",
        "\n",
        "H = np.array([[1, 1], [1, -1]]) / np.sqrt(2)\n",
        "CNOT = np.array([[1, 0, 0, 0], [0, 1, 0, 0], [0, 0, 0, 1], [0, 0, 1, 0]])\n",
        "\n",
        "phi = np.array([1, 0, 0, 0])\n",
        "\n",
        "H_I = np.kron(H, np.eye(2))\n",
        "v = H_I @ phi\n",
        "\n",
        "v_ = CNOT @ v\n",
        "\n",
        "print(v_)\n",
        "\n",
        "\n",
        "probabilities = np.abs(v_)**2\n",
        "measurements = np.random.choice(4, 10, p=probabilities)\n",
        "print(f\"count 00: {np.sum(measurements == 0)}\")\n",
        "print(f\"count 01: {np.sum(measurements == 1)}\")\n",
        "print(f\"count 10: {np.sum(measurements == 2)}\")\n",
        "print(f\"count 11: {np.sum(measurements == 3)}\")"
      ],
      "metadata": {
        "id": "eZeINNaoTx_S",
        "colab": {
          "base_uri": "https://localhost:8080/"
        },
        "outputId": "83832122-630b-407b-e017-47143a354212"
      },
      "execution_count": 2,
      "outputs": [
        {
          "output_type": "stream",
          "name": "stdout",
          "text": [
            "[0.70710678 0.         0.         0.70710678]\n",
            "count 00: 4\n",
            "count 01: 0\n",
            "count 10: 0\n",
            "count 11: 6\n"
          ]
        }
      ]
    },
    {
      "cell_type": "code",
      "source": [
        "# kadai2c\n",
        "import numpy as np\n",
        "\n",
        "zero = np.array([1, 0])\n",
        "one = np.array([0, 1])\n",
        "state_2qubit = (np.kron(zero, zero) + np.kron(zero, one) + np.kron(one, zero) + np.kron(one, one)) / 2.0\n",
        "qubit_0 = np.array([1, 0])\n",
        "state_3qubit = np.kron(state_2qubit, qubit_0)\n",
        "print(sta)\n",
        "def toffoli_gate(input_state):\n",
        "    output_state = np.zeros_like(input_state)\n",
        "    for i in range(len(input_state)):\n",
        "        if input_state[i] != 0:\n",
        "            a = (i >> 2) & 1\n",
        "            b = (i >> 1) & 1\n",
        "            c = i & 1\n",
        "            if a == 1 and b == 1:\n",
        "                output_index = i ^ 1\n",
        "                output_state[output_index] += input_state[i]\n",
        "            else:\n",
        "                output_state[i] += input_state[i]\n",
        "    return output_state\n",
        "\n",
        "result_state = toffoli_gate(state_3qubit)\n",
        "\n",
        "def measure_second_qubit(state, trials=1000):\n",
        "    count_0 = 0\n",
        "    count_1 = 0\n",
        "    probabilities = state[4:]\n",
        "    for _ in range(trials):\n",
        "        rand_val = np.random.random()\n",
        "        cumulative = 0.0\n",
        "        for idx, prob in enumerate(probabilities):\n",
        "            cumulative += prob\n",
        "            if rand_val < cumulative:\n",
        "                if idx == 0:\n",
        "                    count_0 += 1\n",
        "                else:\n",
        "                    count_1 += 1\n",
        "                break\n",
        "    return count_0, count_1\n",
        "\n",
        "measure_0, measure_1 = measure_second_qubit(result_state, 1000)\n",
        "print(\"Count of |0⟩:\", measure_0)\n",
        "print(\"Count of |1⟩:\", measure_1)"
      ],
      "metadata": {
        "colab": {
          "base_uri": "https://localhost:8080/"
        },
        "id": "11SdZMbwUebJ",
        "outputId": "e81f81b2-c0ae-471e-ed20-ed4024014d93"
      },
      "execution_count": 10,
      "outputs": [
        {
          "output_type": "stream",
          "name": "stdout",
          "text": [
            "[0.5 0.  0.5 0.  0.5 0.  0.5 0. ]\n",
            "Count of |0⟩: 509\n",
            "Count of |1⟩: 491\n"
          ]
        }
      ]
    },
    {
      "cell_type": "code",
      "source": [],
      "metadata": {
        "id": "5G7VC-9whGPw"
      },
      "execution_count": null,
      "outputs": []
    }
  ]
}