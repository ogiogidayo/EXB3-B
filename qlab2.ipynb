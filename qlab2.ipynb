{
  "nbformat": 4,
  "nbformat_minor": 0,
  "metadata": {
    "colab": {
      "provenance": [],
      "authorship_tag": "ABX9TyOtZwoibF5clnAZdtn3Irpn",
      "include_colab_link": true
    },
    "kernelspec": {
      "name": "python3",
      "display_name": "Python 3"
    },
    "language_info": {
      "name": "python"
    }
  },
  "cells": [
    {
      "cell_type": "markdown",
      "metadata": {
        "id": "view-in-github",
        "colab_type": "text"
      },
      "source": [
        "<a href=\"https://colab.research.google.com/github/ogiogidayo/EXB3-B/blob/main/qlab2.ipynb\" target=\"_parent\"><img src=\"https://colab.research.google.com/assets/colab-badge.svg\" alt=\"Open In Colab\"/></a>"
      ]
    },
    {
      "cell_type": "code",
      "execution_count": 1,
      "metadata": {
        "colab": {
          "base_uri": "https://localhost:8080/"
        },
        "id": "N40uxcnrSna1",
        "outputId": "3b0e2689-4364-4c70-994e-64bbabec05df"
      },
      "outputs": [
        {
          "output_type": "stream",
          "name": "stdout",
          "text": [
            "0.467273909317754*|0> - 0.139186104938131*I*|0> + 0.861013761558237*|1> - 0.144698390697306*I*|1>\n",
            "count 0: 26\n",
            "count 1: 74\n"
          ]
        }
      ],
      "source": [
        "# kadai2a\n",
        "import numpy as np\n",
        "from sympy.physics.quantum.qubit import matrix_to_qubit\n",
        "\n",
        "def Ry(theta):\n",
        "    return np.array([[np.cos(theta / 2), -np.sin(theta / 2)], [np.sin(theta / 2), np.cos(theta / 2)]])\n",
        "\n",
        "def Rz(theta):\n",
        "    return np.array([[np.exp(-1j * theta / 2), 0], [0, np.exp(1j * theta / 2)]])\n",
        "\n",
        "phi = np.array([[1], [0]])\n",
        "\n",
        "U = Rz(0.123) @ Ry(2.123) @ Rz(0.456)\n",
        "v = U @ phi\n",
        "\n",
        "vv = matrix_to_qubit(v)\n",
        "print(vv)\n",
        "\n",
        "# simulation\n",
        "probabilities = np.abs(v)**2\n",
        "measurements = np.random.choice(2, 100, p=probabilities.flatten())\n",
        "print(f\"count 0: {np.sum(measurements == 0)}\")\n",
        "print(f\"count 1: {np.sum(measurements == 1)}\")\n"
      ]
    },
    {
      "cell_type": "code",
      "source": [
        "# kadai2b\n",
        "import numpy as np\n",
        "\n",
        "H = np.array([[1, 1], [1, -1]]) / np.sqrt(2)\n",
        "CNOT = np.array([[1, 0, 0, 0], [0, 1, 0, 0], [0, 0, 0, 1], [0, 0, 1, 0]])\n",
        "\n",
        "phi = np.array([1, 0, 0, 0])\n",
        "\n",
        "H_I = np.kron(H, np.eye(2))\n",
        "v = H_I @ phi\n",
        "\n",
        "v_ = CNOT @ v\n",
        "\n",
        "print(v_)\n",
        "\n",
        "\n",
        "probabilities = np.abs(v_)**2\n",
        "measurements = np.random.choice(4, 10, p=probabilities)\n",
        "print(f\"count 00: {np.sum(measurements == 0)}\")\n",
        "print(f\"count 01: {np.sum(measurements == 1)}\")\n",
        "print(f\"count 10: {np.sum(measurements == 2)}\")\n",
        "print(f\"count 11: {np.sum(measurements == 3)}\")"
      ],
      "metadata": {
        "id": "eZeINNaoTx_S",
        "colab": {
          "base_uri": "https://localhost:8080/"
        },
        "outputId": "0986d65d-0625-4e5e-d749-7f206f7ac57a"
      },
      "execution_count": 2,
      "outputs": [
        {
          "output_type": "stream",
          "name": "stdout",
          "text": [
            "[0.70710678 0.         0.         0.70710678]\n",
            "count 00: 5\n",
            "count 01: 0\n",
            "count 10: 0\n",
            "count 11: 5\n"
          ]
        }
      ]
    },
    {
      "cell_type": "code",
      "source": [
        "# kadai2c\n",
        "import numpy as np\n",
        "\n",
        "q_00 = np.array([1, 0, 0, 0])\n",
        "q_01 = np.array([0, 1, 0, 0])\n",
        "q_10 = np.array([0, 0, 1, 0])\n",
        "q_11 = np.array([0, 0, 0, 1])\n",
        "q = (q_00 + q_01 + q_10 + q_11) / 2\n",
        "\n",
        "q_0 = np.array([1, 0])\n",
        "\n",
        "Q = np.kron(q, q_0)\n",
        "\n",
        "\n",
        "Toffoli = np.eye(8)\n",
        "Toffoli[6, 6] = 0\n",
        "Toffoli[7, 7] = 0\n",
        "Toffoli[6, 7] = 1\n",
        "Toffoli[7, 6] = 1\n",
        "\n",
        "Q_T = Toffoli @ Q\n",
        "\n",
        "print(Q_T)\n",
        "\n",
        "probabilities = np.abs(Q_T)**2\n",
        "print(probabilities)\n",
        "p_0 = probabilities[0] + probabilities[2] + probabilities[4] + probabilities[6]\n",
        "p_1 = probabilities[1] + probabilities[3] + probabilities[5] + probabilities[7]\n",
        "measurements = np.random.choice([0, 1], 1000, p=[np.sum(p_0), np.sum(p_1)])\n",
        "\n",
        "count_0 = np.sum(measurements == 0)\n",
        "count_1 = np.sum(measurements == 1)\n",
        "\n",
        "print(f\"count 0: {count_0}\")\n",
        "print(f\"count 1: {count_1}\")\n",
        "\n",
        "# 考察\n",
        "# 2bitの0/1のANDは４つの組み合わせのうち11だけが1になる。つまり1になる確率が1/4で0になる確率が3/4であるため"
      ],
      "metadata": {
        "colab": {
          "base_uri": "https://localhost:8080/"
        },
        "id": "11SdZMbwUebJ",
        "outputId": "5193d308-0ae4-476d-c7d1-f9bdcaf2bb87"
      },
      "execution_count": 3,
      "outputs": [
        {
          "output_type": "stream",
          "name": "stdout",
          "text": [
            "[0.5 0.  0.5 0.  0.5 0.  0.  0.5]\n",
            "[0.25 0.   0.25 0.   0.25 0.   0.   0.25]\n",
            "count 0: 716\n",
            "count 1: 284\n"
          ]
        }
      ]
    }
  ]
}