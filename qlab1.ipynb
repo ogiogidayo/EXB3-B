{
  "nbformat": 4,
  "nbformat_minor": 0,
  "metadata": {
    "colab": {
      "provenance": [],
      "authorship_tag": "ABX9TyPFwNwC2xII+m36Jiouk+aV",
      "include_colab_link": true
    },
    "kernelspec": {
      "name": "python3",
      "display_name": "Python 3"
    },
    "language_info": {
      "name": "python"
    }
  },
  "cells": [
    {
      "cell_type": "markdown",
      "metadata": {
        "id": "view-in-github",
        "colab_type": "text"
      },
      "source": [
        "<a href=\"https://colab.research.google.com/github/ogiogidayo/EXB3-B/blob/main/qlab1.ipynb\" target=\"_parent\"><img src=\"https://colab.research.google.com/assets/colab-badge.svg\" alt=\"Open In Colab\"/></a>"
      ]
    },
    {
      "cell_type": "code",
      "execution_count": 5,
      "metadata": {
        "colab": {
          "base_uri": "https://localhost:8080/"
        },
        "id": "sZtwY3ltVdjj",
        "outputId": "a53acaf3-292d-49c6-a81c-fe8b07cf080b"
      },
      "outputs": [
        {
          "output_type": "stream",
          "name": "stdout",
          "text": [
            "3.1414926535900345\n"
          ]
        }
      ],
      "source": [
        "#kadai1a\n",
        "sum = 0\n",
        "for i in range(10000):\n",
        "  sum += (-1)**(i) * 4 / (2*i+1)\n",
        "print(sum)"
      ]
    },
    {
      "cell_type": "code",
      "source": [
        "# kadai1b\n",
        "def myfactorize(n):\n",
        "  ans = []\n",
        "  for i in range(1, n+1):\n",
        "    if n % i == 0:\n",
        "      ans.append(i)\n",
        "  return ans\n",
        "\n",
        "def myprime(n):\n",
        "    primes = []\n",
        "    for i in range(2, n + 1):\n",
        "        if len(myfactorize(i)) == 2:\n",
        "            primes.append(i)\n",
        "    return primes\n",
        "\n",
        "print(myfactorize(10))\n",
        "print(myprime(10))"
      ],
      "metadata": {
        "colab": {
          "base_uri": "https://localhost:8080/"
        },
        "id": "nKMgDy2GXC1f",
        "outputId": "db3ea6e7-5eb0-478f-9a00-1f018423b3bf"
      },
      "execution_count": 14,
      "outputs": [
        {
          "output_type": "stream",
          "name": "stdout",
          "text": [
            "[1, 2, 5, 10]\n",
            "[2, 3, 5, 7]\n"
          ]
        }
      ]
    },
    {
      "cell_type": "code",
      "source": [
        "# kadai1c\n",
        "import numpy as np\n",
        "import scipy.linalg as LA\n",
        "\n",
        "A = np.random.randn(2,2) + 1j*np.random.randn(2,2)\n",
        "v = np.random.randn(2) + 1j*np.random.randn(2)\n",
        "H = A @ v\n",
        "dot = np.vdot(v, H)\n",
        "print(dot)\n",
        "\n",
        "P = A @ A.conj().T\n",
        "ev = np.linalg.eigvals(P)\n",
        "print(ev)\n",
        "np.all(ev >= 0)"
      ],
      "metadata": {
        "colab": {
          "base_uri": "https://localhost:8080/"
        },
        "id": "RvJnUMx1ZpoH",
        "outputId": "2b1cbbff-83c6-468f-cb4c-3fb021d53977"
      },
      "execution_count": 35,
      "outputs": [
        {
          "output_type": "stream",
          "name": "stdout",
          "text": [
            "(8.41292395358034-4.823293783394291j)\n",
            "[3.26953671+0.j 0.90573345+0.j]\n"
          ]
        },
        {
          "output_type": "execute_result",
          "data": {
            "text/plain": [
              "True"
            ]
          },
          "metadata": {},
          "execution_count": 35
        }
      ]
    },
    {
      "cell_type": "code",
      "source": [
        "# kadai1d\n",
        "import numpy as np\n",
        "import scipy.linalg as LA\n",
        "\n",
        "tmpA = np.random.randn(5,5) + 1j*np.random.randn(5,5)\n",
        "A = tmpA + tmpA.conj().T\n",
        "val, vec=LA.eig(A)\n",
        "\n",
        "# ★1\n",
        "print(\"★1\")\n",
        "print(np.round(val), 5)\n",
        "# ★2\n",
        "print(\"★2\")\n",
        "unique_vals = np.unique(val)\n",
        "ok = len(unique_vals) < len(val)\n",
        "\n",
        "if not ok:\n",
        "    check1 = np.abs(np.dot(vec.T.conj(), vec) - np.eye(len(vec))) < 1e-10\n",
        "print(check1)\n",
        "\n",
        "# ★3\n",
        "print(\"★3\")\n",
        "B = np.zeros((5,5), dtype=complex)\n",
        "for i in range(5):\n",
        "    B += val[i] * vec[:, i].reshape(-1, 1) @ vec[:, i].reshape(1, -1).conj()\n",
        "comparison = np.allclose(A, B)\n",
        "print(comparison)\n",
        "\n",
        "# ★4\n",
        "print(\"★4\")\n",
        "U = vec\n",
        "U_cj = U.conj().T\n",
        "U_prod = U_cj @ U\n",
        "\n",
        "check2 = np.allclose(U_prod, np.eye(5))\n",
        "\n",
        "print(check2)\n",
        "\n",
        "# ★5\n",
        "print(\"★5\")\n",
        "Q = U_cj @ A @ U\n",
        "print(np.round(Q, 5))\n",
        "\n",
        "# ★★\n",
        "print(\"★★\")\n",
        "P = tmpA @ tmpA.conj().T\n",
        "val, vec=LA.eig(P)\n",
        "print(np.round(val, 5))\n",
        "np.all(np.round(val, 5) >= 0)"
      ],
      "metadata": {
        "colab": {
          "base_uri": "https://localhost:8080/"
        },
        "id": "nJlV0Q_ed8Uu",
        "outputId": "dac2ebb7-5714-48a4-8d35-f763f20fb54a"
      },
      "execution_count": 67,
      "outputs": [
        {
          "output_type": "stream",
          "name": "stdout",
          "text": [
            "★1\n",
            "[-8.-0.j -4.+0.j  5.+0.j  1.+0.j  3.-0.j] 5\n",
            "★2\n",
            "[[ True  True  True  True  True]\n",
            " [ True  True  True  True  True]\n",
            " [ True  True  True  True  True]\n",
            " [ True  True  True  True  True]\n",
            " [ True  True  True  True  True]]\n",
            "★3\n",
            "True\n",
            "★4\n",
            "True\n",
            "★5\n",
            "[[-7.85536+0.j -0.     -0.j -0.     -0.j -0.     +0.j -0.     -0.j]\n",
            " [-0.     +0.j -3.69749+0.j  0.     -0.j -0.     +0.j  0.     -0.j]\n",
            " [-0.     +0.j  0.     +0.j  4.7984 -0.j  0.     +0.j -0.     -0.j]\n",
            " [-0.     -0.j -0.     -0.j  0.     -0.j  0.53155-0.j -0.     -0.j]\n",
            " [ 0.     +0.j  0.     +0.j -0.     +0.j -0.     +0.j  2.61619-0.j]]\n",
            "★★\n",
            "[40.37562-0.j 19.2057 -0.j  8.98993-0.j  3.3233 +0.j  0.23664-0.j]\n"
          ]
        },
        {
          "output_type": "execute_result",
          "data": {
            "text/plain": [
              "True"
            ]
          },
          "metadata": {},
          "execution_count": 67
        }
      ]
    },
    {
      "cell_type": "code",
      "source": [
        "# kadai1e\n",
        "import numpy as np\n",
        "import scipy.linalg as LA\n",
        "\n",
        "# ①\n",
        "def my_matrix_exp(A):\n",
        "  val, vec = np.linalg.eigh(A)\n",
        "  U = vec\n",
        "  U_cj = U.conj().T\n",
        "  exp_diag = np.diag(np.exp(val))\n",
        "  return U @ exp_diag @ U_cj\n",
        "\n",
        "# test①\n",
        "A = np.random.randn(5, 5) + 1j * np.random.randn(5, 5)\n",
        "testA = A + A.conj().T\n",
        "test1 = my_matrix_exp(testA)\n",
        "test2 = LA.expm(testA)\n",
        "comparison = np.allclose(test1, test2)\n",
        "print(comparison)\n",
        "\n",
        "# ②\n",
        "def my_matrix_power(A, k):\n",
        "  val, vec = np.linalg.eigh(A)\n",
        "\n",
        "  power_diag = np.diag(val ** k)\n",
        "\n",
        "  return vec @ power_diag @ vec.conj().T\n",
        "\n",
        "# test②\n",
        "B = np.random.rand(5, 5)\n",
        "B = np.dot(B, B.T)\n",
        "B_inv = np.linalg.inv(B)\n",
        "result_i = my_matrix_power(B, -1)\n",
        "comparison = np.allclose(result_i, B_inv)\n",
        "print(comparison)"
      ],
      "metadata": {
        "colab": {
          "base_uri": "https://localhost:8080/"
        },
        "id": "7hnvrAYrnQ_D",
        "outputId": "4765ee02-e437-44c2-a75c-259bb5af51a5"
      },
      "execution_count": 84,
      "outputs": [
        {
          "output_type": "stream",
          "name": "stdout",
          "text": [
            "True\n",
            "True\n"
          ]
        }
      ]
    }
  ]
}