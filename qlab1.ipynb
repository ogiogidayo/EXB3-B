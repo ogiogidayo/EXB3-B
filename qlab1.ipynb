{
  "nbformat": 4,
  "nbformat_minor": 0,
  "metadata": {
    "colab": {
      "provenance": [],
      "authorship_tag": "ABX9TyNOo1fKYxBuKDVsS9Zw/7Am",
      "include_colab_link": true
    },
    "kernelspec": {
      "name": "python3",
      "display_name": "Python 3"
    },
    "language_info": {
      "name": "python"
    }
  },
  "cells": [
    {
      "cell_type": "markdown",
      "metadata": {
        "id": "view-in-github",
        "colab_type": "text"
      },
      "source": [
        "<a href=\"https://colab.research.google.com/github/ogiogidayo/EXB3-B/blob/main/qlab1.ipynb\" target=\"_parent\"><img src=\"https://colab.research.google.com/assets/colab-badge.svg\" alt=\"Open In Colab\"/></a>"
      ]
    },
    {
      "cell_type": "code",
      "execution_count": 1,
      "metadata": {
        "colab": {
          "base_uri": "https://localhost:8080/"
        },
        "id": "sZtwY3ltVdjj",
        "outputId": "52fa6346-fc3c-4272-c6f6-1ad86c43a06c"
      },
      "outputs": [
        {
          "output_type": "stream",
          "name": "stdout",
          "text": [
            "3.1414926535900345\n"
          ]
        }
      ],
      "source": [
        "#kadai1a\n",
        "sum = 0\n",
        "for i in range(10000):\n",
        "  sum += (-1)**(i) * 4 / (2*i+1)\n",
        "print(sum)"
      ]
    },
    {
      "cell_type": "code",
      "source": [
        "# kadai1b\n",
        "def myfactorize(n):\n",
        "  ans = []\n",
        "  for i in range(1, n+1):\n",
        "    if n % i == 0:\n",
        "      ans.append(i)\n",
        "  return ans\n",
        "\n",
        "def myprime(n):\n",
        "    primes = []\n",
        "    for i in range(2, n + 1):\n",
        "        if len(myfactorize(i)) == 2:\n",
        "            primes.append(i)\n",
        "    return primes\n",
        "\n",
        "print(myfactorize(10))\n",
        "print(myprime(10))"
      ],
      "metadata": {
        "colab": {
          "base_uri": "https://localhost:8080/"
        },
        "id": "nKMgDy2GXC1f",
        "outputId": "265b5cb7-0ec9-4669-ac50-b40d36e212ba"
      },
      "execution_count": 2,
      "outputs": [
        {
          "output_type": "stream",
          "name": "stdout",
          "text": [
            "[1, 2, 5, 10]\n",
            "[2, 3, 5, 7]\n"
          ]
        }
      ]
    },
    {
      "cell_type": "code",
      "source": [
        "# kadai1c\n",
        "import numpy as np\n",
        "import scipy.linalg as LA\n",
        "\n",
        "A = np.random.randn(2,2) + 1j*np.random.randn(2,2)\n",
        "v = np.random.randn(2) + 1j*np.random.randn(2)\n",
        "H = A @ v\n",
        "dot = np.vdot(v, H)\n",
        "print(dot)\n",
        "\n",
        "P = A @ A.conj().T\n",
        "ev = np.linalg.eigvals(P)\n",
        "print(ev)\n",
        "np.all(ev >= 0)"
      ],
      "metadata": {
        "colab": {
          "base_uri": "https://localhost:8080/"
        },
        "id": "RvJnUMx1ZpoH",
        "outputId": "1908b202-3bae-4645-f733-ad830867e4fc"
      },
      "execution_count": 3,
      "outputs": [
        {
          "output_type": "stream",
          "name": "stdout",
          "text": [
            "(2.0980289906950524+0.3540259015071596j)\n",
            "[4.88688158-5.52235641e-17j 0.64324765+5.52235641e-17j]\n"
          ]
        },
        {
          "output_type": "execute_result",
          "data": {
            "text/plain": [
              "True"
            ]
          },
          "metadata": {},
          "execution_count": 3
        }
      ]
    },
    {
      "cell_type": "code",
      "source": [
        "# kadai1d\n",
        "import numpy as np\n",
        "import scipy.linalg as LA\n",
        "\n",
        "tmpA = np.random.randn(5,5) + 1j*np.random.randn(5,5)\n",
        "A = tmpA + tmpA.conj().T\n",
        "val, vec=LA.eig(A)\n",
        "\n",
        "# ★1\n",
        "print(\"★1\")\n",
        "print(np.round(val), 5)\n",
        "# ★2\n",
        "print(\"★2\")\n",
        "unique_vals = np.unique(val)\n",
        "ok = len(unique_vals) < len(val)\n",
        "\n",
        "if not ok:\n",
        "    check1 = np.abs(np.dot(vec.T.conj(), vec) - np.eye(len(vec))) < 1e-10\n",
        "print(check1)\n",
        "\n",
        "# ★3\n",
        "print(\"★3\")\n",
        "B = np.zeros((5,5), dtype=complex)\n",
        "for i in range(5):\n",
        "    B += val[i] * vec[:, i].reshape(-1, 1) @ vec[:, i].reshape(1, -1).conj()\n",
        "comparison = np.allclose(A, B)\n",
        "print(comparison)\n",
        "\n",
        "# ★4\n",
        "print(\"★4\")\n",
        "U = vec\n",
        "U_cj = U.conj().T\n",
        "U_prod = U_cj @ U\n",
        "\n",
        "check2 = np.allclose(U_prod, np.eye(5))\n",
        "\n",
        "print(check2)\n",
        "\n",
        "# ★5\n",
        "print(\"★5\")\n",
        "Q = U_cj @ A @ U\n",
        "print(np.round(Q, 5))\n",
        "\n",
        "# ★★\n",
        "print(\"★★\")\n",
        "P = tmpA @ tmpA.conj().T\n",
        "val, vec=LA.eig(P)\n",
        "print(np.round(val, 5))\n",
        "np.all(np.round(val, 5) >= 0)"
      ],
      "metadata": {
        "colab": {
          "base_uri": "https://localhost:8080/"
        },
        "id": "nJlV0Q_ed8Uu",
        "outputId": "d21e66c0-46ce-435c-d4cd-59b1f2ac24a4"
      },
      "execution_count": 4,
      "outputs": [
        {
          "output_type": "stream",
          "name": "stdout",
          "text": [
            "★1\n",
            "[ 8.-0.j -6.-0.j -3.+0.j -1.+0.j  4.-0.j] 5\n",
            "★2\n",
            "[[ True  True  True  True  True]\n",
            " [ True  True  True  True  True]\n",
            " [ True  True  True  True  True]\n",
            " [ True  True  True  True  True]\n",
            " [ True  True  True  True  True]]\n",
            "★3\n",
            "True\n",
            "★4\n",
            "True\n",
            "★5\n",
            "[[ 7.71303-0.j  0.     -0.j  0.     +0.j  0.     +0.j -0.     -0.j]\n",
            " [ 0.     +0.j -6.12246+0.j -0.     -0.j -0.     +0.j -0.     +0.j]\n",
            " [ 0.     -0.j -0.     +0.j -2.67217+0.j  0.     +0.j  0.     -0.j]\n",
            " [ 0.     -0.j -0.     -0.j  0.     -0.j -0.66882-0.j  0.     +0.j]\n",
            " [-0.     +0.j -0.     -0.j  0.     +0.j  0.     -0.j  4.17568+0.j]]\n",
            "★★\n",
            "[33.25193+0.j 14.04761-0.j  6.67242-0.j  0.91822+0.j  3.05107-0.j]\n"
          ]
        },
        {
          "output_type": "execute_result",
          "data": {
            "text/plain": [
              "True"
            ]
          },
          "metadata": {},
          "execution_count": 4
        }
      ]
    },
    {
      "cell_type": "code",
      "source": [
        "# kadai1e\n",
        "import numpy as np\n",
        "import scipy.linalg as LA\n",
        "\n",
        "# ①\n",
        "def my_matrix_exp(A):\n",
        "  val, vec = np.linalg.eigh(A)\n",
        "  U = vec\n",
        "  U_cj = U.conj().T\n",
        "  exp_diag = np.diag(np.exp(val))\n",
        "  return U @ exp_diag @ U_cj\n",
        "\n",
        "# test①\n",
        "A = np.random.randn(5, 5) + 1j * np.random.randn(5, 5)\n",
        "testA = A + A.conj().T\n",
        "test1 = my_matrix_exp(testA)\n",
        "test2 = LA.expm(testA)\n",
        "comparison = np.allclose(test1, test2)\n",
        "print(comparison)\n",
        "\n",
        "# ②\n",
        "def my_matrix_power(A, k):\n",
        "  val, vec = np.linalg.eigh(A)\n",
        "\n",
        "  power_diag = np.diag(val ** k)\n",
        "\n",
        "  return vec @ power_diag @ vec.conj().T\n",
        "\n",
        "# test②\n",
        "B = np.random.rand(5, 5)\n",
        "B = np.dot(B, B.T)\n",
        "B_inv = np.linalg.inv(B)\n",
        "result_i = my_matrix_power(B, -1)\n",
        "comparison = np.allclose(result_i, B_inv)\n",
        "print(comparison)"
      ],
      "metadata": {
        "colab": {
          "base_uri": "https://localhost:8080/"
        },
        "id": "7hnvrAYrnQ_D",
        "outputId": "f4e4dbfd-1d0a-459f-9a3d-0b443f91757f"
      },
      "execution_count": 5,
      "outputs": [
        {
          "output_type": "stream",
          "name": "stdout",
          "text": [
            "True\n",
            "True\n"
          ]
        }
      ]
    },
    {
      "cell_type": "code",
      "source": [
        "# kadai1f\n",
        "import numpy as np\n",
        "import scipy.linalg as LA\n",
        "\n",
        "tmpA = np.random.randn(5,5) + 1j*np.random.randn(5,5)\n",
        "A = tmpA + tmpA.conj().T\n",
        "U = LA.expm(1j * A)\n",
        "U_cj = U.conj().T\n",
        "U_prod = U_cj @ U\n",
        "check1 = np.allclose(U_prod, np.eye(5))\n",
        "print(check1)\n",
        "\n",
        "# ★0\n",
        "v = np.random.randn(5) + 1j*np.random.randn(5)\n",
        "Uv = U @ v\n",
        "norm_v = LA.norm(v)\n",
        "norm_Uv = LA.norm(Uv)\n",
        "check2 = np.allclose(norm_v, norm_Uv)\n",
        "print(check2)"
      ],
      "metadata": {
        "colab": {
          "base_uri": "https://localhost:8080/"
        },
        "id": "XvPy2YyxsEyt",
        "outputId": "35c1e002-3abc-4a22-c015-88cfeb794874"
      },
      "execution_count": 6,
      "outputs": [
        {
          "output_type": "stream",
          "name": "stdout",
          "text": [
            "True\n",
            "True\n"
          ]
        }
      ]
    }
  ]
}